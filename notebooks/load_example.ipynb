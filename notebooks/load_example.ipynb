{
 "cells": [
  {
   "cell_type": "code",
   "execution_count": 1,
   "metadata": {
    "collapsed": true
   },
   "outputs": [],
   "source": [
    "import h5py"
   ]
  },
  {
   "cell_type": "code",
   "execution_count": 3,
   "metadata": {},
   "outputs": [],
   "source": [
    "# open hdf5 data for reading mode, much like how you open a file using open(file, mode)\n",
    "# for writing to a file you will use 'w', or read/write r+\n",
    "# more information about the mode can be found in this page\n",
    "# http://docs.h5py.org/en/stable/high/file.html\n",
    "dataset = h5py.File('/mnt/act3/users/yilun/data/dataset.h5', 'r')"
   ]
  },
  {
   "cell_type": "code",
   "execution_count": 4,
   "metadata": {},
   "outputs": [
    {
     "data": {
      "text/plain": [
       "[u'test', u'train', u'validate']"
      ]
     },
     "execution_count": 4,
     "metadata": {},
     "output_type": "execute_result"
    }
   ],
   "source": [
    "# the dataset behaves like a python dictionary with data stored in it.\n",
    "# here are the groups i created\n",
    "dataset.keys()"
   ]
  },
  {
   "cell_type": "code",
   "execution_count": 5,
   "metadata": {
    "collapsed": true
   },
   "outputs": [],
   "source": [
    "# to open a given group, say 'train'\n",
    "group = dataset['train']"
   ]
  },
  {
   "cell_type": "code",
   "execution_count": 6,
   "metadata": {},
   "outputs": [
    {
     "name": "stdout",
     "output_type": "stream",
     "text": [
      "0.1\n",
      "0.10\n",
      "0.100\n",
      "0.1001\n",
      "0.1002\n",
      "0.1004\n",
      "0.1005\n",
      "0.1006\n",
      "0.1008\n",
      "0.1009\n"
     ]
    }
   ],
   "source": [
    "# the group again behaves like a python dictionary\n",
    "# I am showing the keys in this group, each corresponding\n",
    "# to an actual data from a detector. The key is a unique\n",
    "# identifier to that detector data, it's too long i will\n",
    "# only print the first 10 for demo\n",
    "det_keys = group.keys()\n",
    "for i in range(10):\n",
    "    print det_keys[i]"
   ]
  },
  {
   "cell_type": "code",
   "execution_count": 7,
   "metadata": {},
   "outputs": [
    {
     "name": "stdout",
     "output_type": "stream",
     "text": [
      "50880\n"
     ]
    }
   ],
   "source": [
    "# as you can see there are about 50880 detector data stored in training group.\n",
    "print len(group.keys())"
   ]
  },
  {
   "cell_type": "code",
   "execution_count": 8,
   "metadata": {
    "collapsed": true
   },
   "outputs": [],
   "source": [
    "# now we look at a given det data. pick a random detector to look at\n",
    "# say we look at the detector corresonding to key '0.1005'\n",
    "det_data = group['0.1005']"
   ]
  },
  {
   "cell_type": "code",
   "execution_count": 9,
   "metadata": {},
   "outputs": [
    {
     "data": {
      "text/plain": [
       "h5py._hl.dataset.Dataset"
      ]
     },
     "execution_count": 9,
     "metadata": {},
     "output_type": "execute_result"
    }
   ],
   "source": [
    "# this is now an actual dataset\n",
    "type(det_data)"
   ]
  },
  {
   "cell_type": "code",
   "execution_count": 10,
   "metadata": {
    "collapsed": true
   },
   "outputs": [],
   "source": [
    "# to actually load the data from this detector dataset\n",
    "# simply do\n",
    "data = det_data[:]"
   ]
  },
  {
   "cell_type": "code",
   "execution_count": 11,
   "metadata": {},
   "outputs": [
    {
     "name": "stdout",
     "output_type": "stream",
     "text": [
      "<type 'numpy.ndarray'>\n",
      "[-0.91825491 -0.90685265 -0.90975888 ..., -0.98669338 -0.99271015\n",
      " -0.97558444]\n"
     ]
    }
   ],
   "source": [
    "print type(data)\n",
    "print data"
   ]
  },
  {
   "cell_type": "code",
   "execution_count": 12,
   "metadata": {},
   "outputs": [
    {
     "data": {
      "text/plain": [
       "[u'corrLive',\n",
       " u'rmsLive',\n",
       " u'kurtLive',\n",
       " u'DELive',\n",
       " u'MFELive',\n",
       " u'skewLive',\n",
       " u'normLive',\n",
       " u'darkRatioLive',\n",
       " u'jumpLive',\n",
       " u'gainLive',\n",
       " u'label']"
      ]
     },
     "execution_count": 12,
     "metadata": {},
     "output_type": "execute_result"
    }
   ],
   "source": [
    "# now you can see that it is loaded as a numpy array that you can use for furthur processing\n",
    "# there are also metadata associated with each detector data, these are contained in a \n",
    "# dictionary under attrs. I only included the 10 parameters that Jesse suggested, but \n",
    "# it's easy to add more parameters as metadata. \n",
    "det_data.attrs.keys()"
   ]
  },
  {
   "cell_type": "code",
   "execution_count": 13,
   "metadata": {},
   "outputs": [
    {
     "name": "stdout",
     "output_type": "stream",
     "text": [
      "1.19359e-12\n"
     ]
    }
   ],
   "source": [
    "# to look at the value for a given parameter\n",
    "print det_data.attrs['jumpLive']"
   ]
  },
  {
   "cell_type": "code",
   "execution_count": 14,
   "metadata": {},
   "outputs": [
    {
     "data": {
      "text/plain": [
       "0"
      ]
     },
     "execution_count": 14,
     "metadata": {},
     "output_type": "execute_result"
    }
   ],
   "source": [
    "# label parameter contained the 'sel' parameter, the truth\n",
    "# 0 means unselected (bad), 1 means selected (good)\n",
    "det_data.attrs['label']"
   ]
  },
  {
   "cell_type": "code",
   "execution_count": null,
   "metadata": {
    "collapsed": true
   },
   "outputs": [],
   "source": [
    "# to add a new parameter as attribute you can do\n",
    "# > det_data.attrs['your_cool_new_feature'] = somevalue\n",
    "# make sure you open the file in write mode \n",
    "# and then make sure you close the file properly with\n",
    "# > dataset.close()"
   ]
  },
  {
   "cell_type": "code",
   "execution_count": null,
   "metadata": {
    "collapsed": true
   },
   "outputs": [],
   "source": [
    "# a sample workflow to load all training data and generate a new feature for each\n",
    "# of them would be\n",
    "dataset = h5py.File('dataset.h5', 'r+')\n",
    "\n",
    "# suppose we are working on train set\n",
    "\n",
    "grp = dataset['train']\n",
    "for key in grp.keys():\n",
    "    # get dataset\n",
    "    det_data = grp[key]\n",
    "    \n",
    "    # retrieve data as numpy array\n",
    "    data = det_data[:]\n",
    "    \n",
    "    # do something with the the data to generate your cool feature\n",
    "    new_feature = generate_your_cool_feature(data)\n",
    "    \n",
    "    # save the new feature as a metadata\n",
    "    data.attrs['your_cool_feature_name'] = new_feature\n",
    "    \n",
    "# save and close the file then you should be done\n",
    "dataset.close()"
   ]
  }
 ],
 "metadata": {
  "kernelspec": {
   "display_name": "Python 2",
   "language": "python",
   "name": "python2"
  },
  "language_info": {
   "codemirror_mode": {
    "name": "ipython",
    "version": 2
   },
   "file_extension": ".py",
   "mimetype": "text/x-python",
   "name": "python",
   "nbconvert_exporter": "python",
   "pygments_lexer": "ipython2",
   "version": "2.7.5"
  }
 },
 "nbformat": 4,
 "nbformat_minor": 2
}
